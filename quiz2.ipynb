{
  "cells": [
    {
      "cell_type": "markdown",
      "metadata": {
        "id": "view-in-github",
        "colab_type": "text"
      },
      "source": [
        "<a href=\"https://colab.research.google.com/github/simulate111/Supervised-Machine-Learning/blob/main/quiz2.ipynb\" target=\"_parent\"><img src=\"https://colab.research.google.com/assets/colab-badge.svg\" alt=\"Open In Colab\"/></a>"
      ]
    },
    {
      "cell_type": "markdown",
      "metadata": {
        "id": "xZ3AbAO7w5X7"
      },
      "source": [
        "# Quiz 2 - Programming Excercises\n",
        "\n",
        "## 1. Generalisation Error Bound\n",
        "\n",
        "The code below creates a 2D binary classification dataset composed of two interleaving, moon-shaped half circles. (These data points are not really linearly separable.)"
      ]
    },
    {
      "cell_type": "code",
      "execution_count": 1,
      "metadata": {
        "id": "8b9Az_Yww5X8",
        "outputId": "6f93361a-8d50-4d4b-9e11-aee7dfa648da",
        "colab": {
          "base_uri": "https://localhost:8080/",
          "height": 332
        }
      },
      "outputs": [
        {
          "output_type": "error",
          "ename": "FileNotFoundError",
          "evalue": "[Errno 2] No such file or directory: 'data/Xtr.npy'",
          "traceback": [
            "\u001b[0;31m---------------------------------------------------------------------------\u001b[0m",
            "\u001b[0;31mFileNotFoundError\u001b[0m                         Traceback (most recent call last)",
            "\u001b[0;32m<ipython-input-1-f2c0d693d2fb>\u001b[0m in \u001b[0;36m<cell line: 36>\u001b[0;34m()\u001b[0m\n\u001b[1;32m     34\u001b[0m \u001b[0;34m\u001b[0m\u001b[0m\n\u001b[1;32m     35\u001b[0m \u001b[0;31m# load the data\u001b[0m\u001b[0;34m\u001b[0m\u001b[0;34m\u001b[0m\u001b[0m\n\u001b[0;32m---> 36\u001b[0;31m \u001b[0mXtr\u001b[0m \u001b[0;34m=\u001b[0m \u001b[0mnp\u001b[0m\u001b[0;34m.\u001b[0m\u001b[0mload\u001b[0m\u001b[0;34m(\u001b[0m\u001b[0;34m\"data/Xtr.npy\"\u001b[0m\u001b[0;34m)\u001b[0m\u001b[0;34m\u001b[0m\u001b[0;34m\u001b[0m\u001b[0m\n\u001b[0m\u001b[1;32m     37\u001b[0m \u001b[0mXtst\u001b[0m \u001b[0;34m=\u001b[0m \u001b[0mnp\u001b[0m\u001b[0;34m.\u001b[0m\u001b[0mload\u001b[0m\u001b[0;34m(\u001b[0m\u001b[0;34m\"data/Xtst.npy\"\u001b[0m\u001b[0;34m)\u001b[0m\u001b[0;34m\u001b[0m\u001b[0;34m\u001b[0m\u001b[0m\n\u001b[1;32m     38\u001b[0m \u001b[0mytr\u001b[0m \u001b[0;34m=\u001b[0m \u001b[0mnp\u001b[0m\u001b[0;34m.\u001b[0m\u001b[0mload\u001b[0m\u001b[0;34m(\u001b[0m\u001b[0;34m\"data/ytr.npy\"\u001b[0m\u001b[0;34m)\u001b[0m\u001b[0;34m\u001b[0m\u001b[0;34m\u001b[0m\u001b[0m\n",
            "\u001b[0;32m/usr/local/lib/python3.10/dist-packages/numpy/lib/npyio.py\u001b[0m in \u001b[0;36mload\u001b[0;34m(file, mmap_mode, allow_pickle, fix_imports, encoding, max_header_size)\u001b[0m\n\u001b[1;32m    425\u001b[0m             \u001b[0mown_fid\u001b[0m \u001b[0;34m=\u001b[0m \u001b[0;32mFalse\u001b[0m\u001b[0;34m\u001b[0m\u001b[0;34m\u001b[0m\u001b[0m\n\u001b[1;32m    426\u001b[0m         \u001b[0;32melse\u001b[0m\u001b[0;34m:\u001b[0m\u001b[0;34m\u001b[0m\u001b[0;34m\u001b[0m\u001b[0m\n\u001b[0;32m--> 427\u001b[0;31m             \u001b[0mfid\u001b[0m \u001b[0;34m=\u001b[0m \u001b[0mstack\u001b[0m\u001b[0;34m.\u001b[0m\u001b[0menter_context\u001b[0m\u001b[0;34m(\u001b[0m\u001b[0mopen\u001b[0m\u001b[0;34m(\u001b[0m\u001b[0mos_fspath\u001b[0m\u001b[0;34m(\u001b[0m\u001b[0mfile\u001b[0m\u001b[0;34m)\u001b[0m\u001b[0;34m,\u001b[0m \u001b[0;34m\"rb\"\u001b[0m\u001b[0;34m)\u001b[0m\u001b[0;34m)\u001b[0m\u001b[0;34m\u001b[0m\u001b[0;34m\u001b[0m\u001b[0m\n\u001b[0m\u001b[1;32m    428\u001b[0m             \u001b[0mown_fid\u001b[0m \u001b[0;34m=\u001b[0m \u001b[0;32mTrue\u001b[0m\u001b[0;34m\u001b[0m\u001b[0;34m\u001b[0m\u001b[0m\n\u001b[1;32m    429\u001b[0m \u001b[0;34m\u001b[0m\u001b[0m\n",
            "\u001b[0;31mFileNotFoundError\u001b[0m: [Errno 2] No such file or directory: 'data/Xtr.npy'"
          ]
        }
      ],
      "source": [
        "import numpy as np\n",
        "import matplotlib.pyplot as plt\n",
        "\n",
        "\n",
        "\"\"\"\n",
        "# A two-moon dataset was generated with the following code\n",
        "\n",
        "from sklearn.datasets import make_moons\n",
        "\n",
        "# number of total samples\n",
        "n_tot = 800\n",
        "# number of training samples\n",
        "n_tr = int(n_tot/2)\n",
        "\n",
        "X, y = make_moons(n_tot, noise=0.15, random_state=0)\n",
        "\n",
        "# divide data into training and testing\n",
        "np.random.seed(42)\n",
        "order = np.random.permutation(n_tot)\n",
        "train = order[:n_tr]\n",
        "test = order[n_tr:]\n",
        "\n",
        "Xtr = X[train, :]\n",
        "ytr = y[train]\n",
        "Xtst = X[test, :]\n",
        "ytst = y[test]\n",
        "\n",
        "\n",
        "np.save(\"data/Xtr.npy\", Xtr)\n",
        "np.save(\"data/Xtst.npy\", Xtst)\n",
        "np.save(\"data/ytr.npy\", ytr)\n",
        "np.save(\"data/ytst.npy\", ytst)\n",
        "\"\"\"\n",
        "\n",
        "# load the data\n",
        "Xtr = np.load(\"data/Xtr.npy\")\n",
        "Xtst = np.load(\"data/Xtst.npy\")\n",
        "ytr = np.load(\"data/ytr.npy\")\n",
        "ytst = np.load(\"data/ytst.npy\")\n",
        "n = len(ytr)\n",
        "\n",
        "plt.figure()\n",
        "colors = [\"g\", \"b\"]\n",
        "for (X, y) in [(Xtr, ytr), (Xtst, ytst)]:\n",
        "    for ii in range(2):\n",
        "        class_indices = np.where(y==ii)[0]\n",
        "        plt.scatter(X[class_indices, 0], X[class_indices, 1], c=colors[ii])\n",
        "plt.title(\"full dataset\")\n",
        "plt.show()\n"
      ]
    },
    {
      "cell_type": "markdown",
      "metadata": {
        "id": "bY_O5DYfw5X-"
      },
      "source": [
        "**Task 1a**: Consider a binary classifier called perceptron, calculate the generalisation error bounds for the sample sizes given in the template. To train with $m$ samples, use the first $m$ samples of the training set.\n",
        "\n",
        "*Hint*: The Perceptron algorithm will be covered later in the course. For now, it's sufficient to know that it is a binary classifier. You could use it as follows:\n",
        "\n",
        "```python\n",
        "bc = binary_classifier()\n",
        "# train the classifier on training data\n",
        "bc.fit(Xtr, ytr)\n",
        "# obtain predictions on test data\n",
        "preds = bc.predict(Xtst)\n",
        "```\n"
      ]
    },
    {
      "cell_type": "code",
      "execution_count": 2,
      "metadata": {
        "id": "FaLUWvtow5X-",
        "outputId": "a58f2d99-0dca-411d-d8ee-bc26cb42f605",
        "colab": {
          "base_uri": "https://localhost:8080/",
          "height": 211
        }
      },
      "outputs": [
        {
          "output_type": "error",
          "ename": "NameError",
          "evalue": "name 'n' is not defined",
          "traceback": [
            "\u001b[0;31m---------------------------------------------------------------------------\u001b[0m",
            "\u001b[0;31mNameError\u001b[0m                                 Traceback (most recent call last)",
            "\u001b[0;32m<ipython-input-2-9e699a4e0111>\u001b[0m in \u001b[0;36m<cell line: 5>\u001b[0;34m()\u001b[0m\n\u001b[1;32m      3\u001b[0m \u001b[0;34m\u001b[0m\u001b[0m\n\u001b[1;32m      4\u001b[0m \u001b[0;31m# consider these sample sizes\u001b[0m\u001b[0;34m\u001b[0m\u001b[0;34m\u001b[0m\u001b[0m\n\u001b[0;32m----> 5\u001b[0;31m \u001b[0mms\u001b[0m \u001b[0;34m=\u001b[0m \u001b[0mnp\u001b[0m\u001b[0;34m.\u001b[0m\u001b[0marray\u001b[0m\u001b[0;34m(\u001b[0m\u001b[0mrange\u001b[0m\u001b[0;34m(\u001b[0m\u001b[0;36m20\u001b[0m\u001b[0;34m,\u001b[0m \u001b[0mn\u001b[0m\u001b[0;34m+\u001b[0m\u001b[0;36m1\u001b[0m\u001b[0;34m)\u001b[0m\u001b[0;34m)\u001b[0m\u001b[0;34m\u001b[0m\u001b[0;34m\u001b[0m\u001b[0m\n\u001b[0m\u001b[1;32m      6\u001b[0m \u001b[0;34m\u001b[0m\u001b[0m\n\u001b[1;32m      7\u001b[0m \u001b[0mtrain_errors\u001b[0m \u001b[0;34m=\u001b[0m \u001b[0;34m[\u001b[0m\u001b[0;34m]\u001b[0m\u001b[0;34m\u001b[0m\u001b[0;34m\u001b[0m\u001b[0m\n",
            "\u001b[0;31mNameError\u001b[0m: name 'n' is not defined"
          ]
        }
      ],
      "source": [
        "from sklearn.linear_model import Perceptron as binary_classifier\n",
        "\n",
        "\n",
        "# consider these sample sizes\n",
        "ms = np.array(range(20, n+1))\n",
        "\n",
        "train_errors = []\n",
        "test_errors = []\n",
        "rademachers = []\n",
        "vcdims = []\n",
        "\n",
        "# TODO: calculate the generalisation error bounds\n",
        "# (based on Rademacher complexity and VC-dimension)\n",
        "# for the given sample sizes.\n",
        "\n",
        "\n",
        "\n",
        "\n",
        "\n",
        "\n",
        "# plot\n",
        "plt.figure()\n",
        "plt.plot(ms, rademachers, label=\"Radem.\")\n",
        "plt.plot(ms, vcdims, label=\"VCdim.\")\n",
        "plt.plot(ms, train_errors, label=\"train_error\")\n",
        "plt.plot(ms, test_errors, label=\"test_error\")\n",
        "plt.grid(axis='y', color='grey', linestyle='dashed')\n",
        "plt.ylim(-0.2, 1.4)\n",
        "plt.xticks(np.linspace(100, 400, 4))\n",
        "plt.xlabel('m')\n",
        "plt.legend()\n",
        "plt.show()"
      ]
    },
    {
      "cell_type": "markdown",
      "metadata": {
        "id": "D8U7-1-cw5X-"
      },
      "source": [
        "**Task 1b**: Plot the difference of the generalisation bound based on Rademacher complexity, and the test error. Answer question 4."
      ]
    },
    {
      "cell_type": "code",
      "execution_count": null,
      "metadata": {
        "id": "rNUlk3aBw5X-"
      },
      "outputs": [],
      "source": [
        "# TODO: calculate the difference of the generalisation bound based on Rademacher complexity, and the test error.\n",
        "# radem_diffs = ...\n",
        "\n",
        "# TODO: plot the difference\n"
      ]
    },
    {
      "cell_type": "markdown",
      "metadata": {
        "id": "O0MHkEwew5X-"
      },
      "source": [
        "**Task 1c**: Plot the difference of the generalisation bound based on VC-dimension, and the test error. Answer question 5."
      ]
    },
    {
      "cell_type": "code",
      "execution_count": null,
      "metadata": {
        "tags": [],
        "id": "kumKyn5Sw5X-"
      },
      "outputs": [],
      "source": [
        "# TODO: calculate the difference of the generalisation bound based on VC-dimension, and the test error.\n",
        "# vc_diffs = ...\n",
        "\n",
        "# TODO: plot the difference\n"
      ]
    }
  ],
  "metadata": {
    "kernelspec": {
      "display_name": "Python 3",
      "language": "python",
      "name": "python3"
    },
    "language_info": {
      "codemirror_mode": {
        "name": "ipython",
        "version": 3
      },
      "file_extension": ".py",
      "mimetype": "text/x-python",
      "name": "python",
      "nbconvert_exporter": "python",
      "pygments_lexer": "ipython3",
      "version": "3.10.12"
    },
    "colab": {
      "provenance": [],
      "include_colab_link": true
    }
  },
  "nbformat": 4,
  "nbformat_minor": 0
}