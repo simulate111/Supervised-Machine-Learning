{
  "cells": [
    {
      "cell_type": "markdown",
      "metadata": {
        "id": "view-in-github",
        "colab_type": "text"
      },
      "source": [
        "<a href=\"https://colab.research.google.com/github/simulate111/Supervised-Machine-Learning/blob/main/quiz4.ipynb\" target=\"_parent\"><img src=\"https://colab.research.google.com/assets/colab-badge.svg\" alt=\"Open In Colab\"/></a>"
      ]
    },
    {
      "cell_type": "markdown",
      "metadata": {
        "id": "LRrAOtZPjWsI"
      },
      "source": [
        "# Quiz 4 - Programming Excercises\n",
        "\n",
        "In this exercise, you will implement and compare the performance of the SVM Primal and Dual methods presented in the lecture about the “Support Vector Machine”.\n",
        "\n",
        "The code below prepares the data required for this exercise."
      ]
    },
    {
      "cell_type": "code",
      "execution_count": null,
      "metadata": {
        "id": "e2YJz0-ajWsJ"
      },
      "outputs": [],
      "source": [
        "import numpy as np\n",
        "from sklearn.datasets import load_breast_cancer\n",
        "\n",
        "# Load the data\n",
        "X, y = load_breast_cancer(return_X_y=True)  # X input, y output\n",
        "print(X.shape, y.shape)\n",
        "# to convert the {0,1} output into {-1,+1}\n",
        "y = 2 * y - 1\n",
        "\n",
        "mdata, ndim = X.shape  # size of the data\n",
        "\n",
        "# scale the input data\n",
        "X /= np.outer(np.ones(mdata), np.max(np.abs(X), 0))"
      ]
    },
    {
      "cell_type": "markdown",
      "metadata": {
        "id": "tDVMRMmEjWsK"
      },
      "source": [
        "**Task 1a**: Complete the `svm_primal_cls` class below to implement the SVM Primal method."
      ]
    },
    {
      "cell_type": "code",
      "execution_count": null,
      "metadata": {
        "id": "hIeMNHsSjWsL"
      },
      "outputs": [],
      "source": [
        "class svm_primal_cls:\n",
        "\n",
        "    def __init__(self, C=1000, eta=0.1, xlambda=0.01, nitermax=10):\n",
        "\n",
        "        self.C = C                 ## penalty constant\n",
        "        self.eta = eta             ## learning rate for the primal method\n",
        "        self.nitermax = nitermax   ## maximum number of iterations\n",
        "        self.xlambda = xlambda     ## lambda  = 1/C\n",
        "        self.w = None              ## weight vector\n",
        "\n",
        "        return\n",
        "\n",
        "    # ---------------------------------------------------------\n",
        "    def fit(self, X, y):\n",
        "        \"\"\"\n",
        "        Task: to solve the support Vector Machine\n",
        "              by applying stochastic gradient descent method\n",
        "        Input:  X      2d array of input examples in the rows\n",
        "                y      1d(vector) array of +1,-1 labels\n",
        "        \"\"\"\n",
        "        m, n = X.shape\n",
        "\n",
        "        # initialize the primal variables\n",
        "        w = np.zeros(n)\n",
        "\n",
        "        # iteration on the full training data\n",
        "        for t in range(self.nitermax):\n",
        "            # process all sample examples sequentially\n",
        "            for i in range(m):\n",
        "              # TODO: Stochastic gradient descent algorithm for SVM\n",
        "\n",
        "        return\n",
        "\n",
        "    # ------------------------------------------\n",
        "    def predict(self, Xtest):\n",
        "        \"\"\"\n",
        "        Task: to predict the labels for the given examples based on the self.w\n",
        "        Input:  Xtest   2d array of input examples in the rows\n",
        "        Output: y       1d array of predicted labels\n",
        "        \"\"\"\n",
        "        # TODO: predict\n",
        "\n",
        "        return (y)"
      ]
    },
    {
      "cell_type": "markdown",
      "metadata": {
        "id": "XGiNNqCkjWsL"
      },
      "source": [
        "**Task 1b**: Complete the `svm_dual_cls` class below to implement the SVM Dual method."
      ]
    },
    {
      "cell_type": "code",
      "execution_count": null,
      "metadata": {
        "id": "tGIjnlezjWsL"
      },
      "outputs": [],
      "source": [
        "class svm_dual_cls:\n",
        "\n",
        "    def __init__(self, C=1, nitermax=10):\n",
        "\n",
        "        self.C = C                 ## penalty constant\n",
        "        self.nitermax = nitermax   ## maximum number of iterations\n",
        "        self.alpha = None          ## vector of Lagrangians, dual variables\n",
        "        self.Xtrain = None         ## the training examples, inputs\n",
        "        self.ytrain = None         ## the training examples, outputs\n",
        "\n",
        "        return\n",
        "\n",
        "    # ---------------------------------------------------------\n",
        "    def fit(self, X, y):\n",
        "        \"\"\"\n",
        "        Task: to solve the support Vector Machine\n",
        "              by applying stochastic dual coordinate ascent method\n",
        "        Input:  X      2d array of input examples in the rows\n",
        "                y      1d(vector) array of +1,-1 labels\n",
        "        \"\"\"\n",
        "        m, n = X.shape\n",
        "        self.Xtrain = X\n",
        "        self.ytrain = y\n",
        "\n",
        "        # initialize the dual variables\n",
        "        alpha = np.zeros(m)\n",
        "        # compute the linear kernel\n",
        "        K = np.dot(X, X.T)\n",
        "\n",
        "        # iteration on the full training data\n",
        "        for t in range(self.nitermax):\n",
        "            # process all sample examples sequentially\n",
        "            for i in range(m):\n",
        "              # TODO: Stochastic Dual Coordinate Ascent for SVM\n",
        "\n",
        "        return\n",
        "\n",
        "    # ------------------------------------------\n",
        "    def predict(self, Xtest):\n",
        "        \"\"\"\n",
        "        Task: to predict the labels for the given examples based on the self.alpha\n",
        "        Input:  Xtest   2d array of input test examples in the rows\n",
        "        Output: y       1d array of predicted labels\n",
        "        \"\"\"\n",
        "\n",
        "        # TODO: predict\n",
        "\n",
        "        return (y)\n"
      ]
    },
    {
      "cell_type": "markdown",
      "metadata": {
        "id": "NSKIOSZejWsL"
      },
      "source": [
        "**Task 2**: Complete the code below as instructed, perform cross-validation, and answer Question 4."
      ]
    },
    {
      "cell_type": "code",
      "execution_count": null,
      "metadata": {
        "id": "zoQRDLY2jWsM"
      },
      "outputs": [],
      "source": [
        "from sklearn.model_selection import KFold\n",
        "from sklearn.metrics import f1_score, precision_score, recall_score\n",
        "\n",
        "# fix the random number generator\n",
        "rng = np.random.default_rng(12345)\n",
        "\n",
        "# fixed hyper parameters\n",
        "# primal learning speed\n",
        "eta = 0.1\n",
        "\n",
        "# penalty constant\n",
        "C = 2000\n",
        "\n",
        "# number of iteration\n",
        "literations = [2*(i+1) for i in range(20)]\n",
        "niteration = len(literations)\n",
        "\n",
        "nfold = 5\n",
        "nmethod = 2  # 0 svm_primal, 1 svm_dual\n",
        "\n",
        "# split the data into 5-folds\n",
        "cselection_outer = KFold(n_splits=nfold, random_state=None, shuffle=False)\n",
        "\n",
        "# collect scores for folds, number of iterations for each learner\n",
        "\n",
        "\n",
        "\n",
        "# Run the cross-validation\n",
        "ifold = 0\n",
        "for index_train, index_test in cselection_outer.split(X):\n",
        "    # select the folds\n",
        "\n",
        "    for iiter in range(niteration):\n",
        "        # TODO: train and evaluate both models\n",
        "        # select the iteration number\n",
        "\n",
        "        # training of both models\n",
        "\n",
        "        # prediction of both models\n",
        "\n",
        "        # compute the scores: f1, precision,recall\n",
        "\n",
        "        # end of the iteration selection loop\n",
        "\n",
        "        # end of the fold loop\n",
        "\n",
        "        # average the scores on the folds\n",
        "        # for all methods and for all number of iterations"
      ]
    },
    {
      "cell_type": "markdown",
      "metadata": {
        "id": "nRXzKiDbjWsM"
      },
      "source": [
        "You might plot the results"
      ]
    },
    {
      "cell_type": "code",
      "execution_count": null,
      "metadata": {
        "id": "DWZK5gZDjWsM"
      },
      "outputs": [],
      "source": [
        "import matplotlib\n",
        "import matplotlib.pyplot as plt"
      ]
    }
  ],
  "metadata": {
    "kernelspec": {
      "display_name": "Python 3",
      "language": "python",
      "name": "python3"
    },
    "language_info": {
      "codemirror_mode": {
        "name": "ipython",
        "version": 3
      },
      "file_extension": ".py",
      "mimetype": "text/x-python",
      "name": "python",
      "nbconvert_exporter": "python",
      "pygments_lexer": "ipython3",
      "version": "3.10.12"
    },
    "colab": {
      "provenance": [],
      "include_colab_link": true
    }
  },
  "nbformat": 4,
  "nbformat_minor": 0
}