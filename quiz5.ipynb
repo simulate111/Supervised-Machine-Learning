{
  "cells": [
    {
      "cell_type": "markdown",
      "metadata": {
        "id": "view-in-github",
        "colab_type": "text"
      },
      "source": [
        "<a href=\"https://colab.research.google.com/github/simulate111/Supervised-Machine-Learning/blob/main/quiz5.ipynb\" target=\"_parent\"><img src=\"https://colab.research.google.com/assets/colab-badge.svg\" alt=\"Open In Colab\"/></a>"
      ]
    },
    {
      "cell_type": "markdown",
      "metadata": {
        "id": "ggaCGFLqORrE"
      },
      "source": [
        "# Quiz 5 - Programming Excercises\n",
        "## 1. Ensemble Learning\n",
        "\n",
        "\n",
        "This exercise demonstrates the relationship between the true risk of individual weak learners and that of an ensemble of these learners in a binary classification setting, where the ensemble employs majority voting.\n",
        "\n",
        "**Task 1a**: Complete the `ensemble_truerisk` function."
      ]
    },
    {
      "cell_type": "code",
      "execution_count": 1,
      "metadata": {
        "id": "i999nTNhORrH"
      },
      "outputs": [],
      "source": [
        "import numpy as np\n",
        "from scipy.stats import binom\n",
        "\n",
        "\n",
        "def ensemble_truerisk(nlearner=20, eps=0.2):\n",
        "    \"\"\" compute the ensemble true risk\n",
        "\n",
        "    Args:\n",
        "        nlearner (int): number of weak learners\n",
        "        eps (float): true risk of weak learners\n",
        "\n",
        "    Returns:\n",
        "        Rh (float): true risk of the ensemble\n",
        "    \"\"\"\n",
        "    # TODO: compute the true risk of the ensemble\n",
        "\n",
        "    return (Rh)"
      ]
    },
    {
      "cell_type": "markdown",
      "metadata": {
        "id": "pLWDtPVrORrI"
      },
      "source": [
        "**Task 1b**: Visualise the results, and answer question 2."
      ]
    },
    {
      "cell_type": "code",
      "execution_count": 2,
      "metadata": {
        "id": "64zuS7bIORrI",
        "outputId": "88fec32a-961e-4863-b12d-ed2b5ba6ee31",
        "colab": {
          "base_uri": "https://localhost:8080/",
          "height": 297
        }
      },
      "outputs": [
        {
          "output_type": "error",
          "ename": "NameError",
          "evalue": "name 'Rh' is not defined",
          "traceback": [
            "\u001b[0;31m---------------------------------------------------------------------------\u001b[0m",
            "\u001b[0;31mNameError\u001b[0m                                 Traceback (most recent call last)",
            "\u001b[0;32m<ipython-input-2-660850ab9515>\u001b[0m in \u001b[0;36m<cell line: 15>\u001b[0;34m()\u001b[0m\n\u001b[1;32m     15\u001b[0m \u001b[0;32mfor\u001b[0m \u001b[0mi\u001b[0m \u001b[0;32min\u001b[0m \u001b[0mrange\u001b[0m\u001b[0;34m(\u001b[0m\u001b[0mnensemble\u001b[0m\u001b[0;34m)\u001b[0m\u001b[0;34m:\u001b[0m\u001b[0;34m\u001b[0m\u001b[0;34m\u001b[0m\u001b[0m\n\u001b[1;32m     16\u001b[0m     \u001b[0;32mfor\u001b[0m \u001b[0mieps\u001b[0m \u001b[0;32min\u001b[0m \u001b[0mrange\u001b[0m\u001b[0;34m(\u001b[0m\u001b[0mneps\u001b[0m\u001b[0;34m)\u001b[0m\u001b[0;34m:\u001b[0m\u001b[0;34m\u001b[0m\u001b[0;34m\u001b[0m\u001b[0m\n\u001b[0;32m---> 17\u001b[0;31m         xtruerisk[i, ieps] = ensemble_truerisk(\n\u001b[0m\u001b[1;32m     18\u001b[0m             nlearner=llearnerensembles[i], eps=xeps[i, ieps])\n\u001b[1;32m     19\u001b[0m \u001b[0;34m\u001b[0m\u001b[0m\n",
            "\u001b[0;32m<ipython-input-1-b702ea9ab83f>\u001b[0m in \u001b[0;36mensemble_truerisk\u001b[0;34m(nlearner, eps)\u001b[0m\n\u001b[1;32m     15\u001b[0m     \u001b[0;31m# TODO: compute the true risk of the ensemble\u001b[0m\u001b[0;34m\u001b[0m\u001b[0;34m\u001b[0m\u001b[0m\n\u001b[1;32m     16\u001b[0m \u001b[0;34m\u001b[0m\u001b[0m\n\u001b[0;32m---> 17\u001b[0;31m     \u001b[0;32mreturn\u001b[0m \u001b[0;34m(\u001b[0m\u001b[0mRh\u001b[0m\u001b[0;34m)\u001b[0m\u001b[0;34m\u001b[0m\u001b[0;34m\u001b[0m\u001b[0m\n\u001b[0m",
            "\u001b[0;31mNameError\u001b[0m: name 'Rh' is not defined"
          ]
        }
      ],
      "source": [
        "import matplotlib.pyplot as plt\n",
        "\n",
        "neps = 5  # number of true risks of weak learners in the ensemble\n",
        "nensemble = 4  # number of the ensembles\n",
        "# number of weak learners in each ensembles\n",
        "llearnerensembles = [(i+1) * 10 for i in range(nensemble)]\n",
        "# values of the different true risk of weak learners\n",
        "# assigned to each ensemble\n",
        "xeps = np.zeros((nensemble, neps))\n",
        "for i in range(nensemble):\n",
        "    xeps[i] = np.linspace(0.05*(i+1), 0.2 + 0.05*(i+1), num=neps)\n",
        "\n",
        "xtruerisk = np.zeros((nensemble, neps))\n",
        "\n",
        "for i in range(nensemble):\n",
        "    for ieps in range(neps):\n",
        "        xtruerisk[i, ieps] = ensemble_truerisk(\n",
        "            nlearner=llearnerensembles[i], eps=xeps[i, ieps])\n",
        "\n",
        "\n",
        "# TODO: Visualise `xtruerisk`"
      ]
    },
    {
      "cell_type": "markdown",
      "metadata": {
        "id": "LaLj2-TWORrI"
      },
      "source": [
        "## 2. Multi-Layer Perceptron (MLP)\n",
        "\n",
        "This exercise compares the performance of Multi-Layer Perceptrons (MLP) in classification problems.\n",
        "\n",
        "The code below creates two datasets, \"Circles\" and \"Moons\", from `sklearn`."
      ]
    },
    {
      "cell_type": "code",
      "execution_count": null,
      "metadata": {
        "id": "YLjGWd06ORrI"
      },
      "outputs": [],
      "source": [
        "import numpy as np\n",
        "from sklearn.datasets import make_circles, make_moons\n",
        "\n",
        "# Datasets\n",
        "data_names = [\"Circles\", \"Moons\"]\n",
        "datasets = [\n",
        "    make_circles(n_samples=500, noise=0.3, factor=0.5, random_state=0),\n",
        "    make_moons(n_samples=500, noise=0.3, random_state=0)\n",
        "]\n",
        "ndataset = len(datasets)"
      ]
    },
    {
      "cell_type": "markdown",
      "metadata": {
        "id": "yGHa4bU8ORrJ"
      },
      "source": [
        "The classifiers are created using methods from `sklearn`, with the hyperparameters set as follows."
      ]
    },
    {
      "cell_type": "code",
      "execution_count": null,
      "metadata": {
        "id": "YMd__0cfORrJ"
      },
      "outputs": [],
      "source": [
        "from sklearn.pipeline import make_pipeline\n",
        "from sklearn.preprocessing import StandardScaler\n",
        "from sklearn.neural_network import MLPClassifier\n",
        "\n",
        "# Setting the learners parameters\n",
        "# number of layers in the MLPs\n",
        "lnlayers = [1, 2, 3, 4, 5, 6, 8, 10, 12, 15]\n",
        "# number of MLP learners\n",
        "nlearner = len(lnlayers)\n",
        "# total number of nodes: nlayer * nlayersize = C\n",
        "nnodes = 120\n",
        "# number of nodes per layer in the learners\n",
        "lhyperparams = [(i+1, int(nnodes/(i+1))) for i in lnlayers]\n",
        "\n",
        "# Hyperparameters of solvers\n",
        "# maximum number of iterations\n",
        "iteration = 1000\n",
        "lsolvers = ['lbfgs', 'sgd', 'adam']\n",
        "nsolver = len(lsolvers)\n",
        "nfold = 5\n",
        "\n",
        "\n",
        "# refrence list of learners\n",
        "lclassifiers = []\n",
        "for (nlayer, nnode) in lhyperparams:\n",
        "    lmlpsolvers = []\n",
        "    for ssolver in lsolvers:\n",
        "        lmlpsolvers.append(\n",
        "            make_pipeline(\n",
        "                StandardScaler(),\n",
        "                MLPClassifier(\n",
        "                    solver=ssolver,\n",
        "                    alpha=0.0001,\n",
        "                    random_state=0,\n",
        "                    max_iter=iteration,\n",
        "                    early_stopping=False,\n",
        "                    hidden_layer_sizes=[nnode for _ in range(nlayer)])\n",
        "            )\n",
        "        )\n",
        "    lclassifiers.append(lmlpsolvers)"
      ]
    },
    {
      "cell_type": "markdown",
      "metadata": {
        "id": "rt15fHvRORrJ"
      },
      "source": [
        "**Task 2**: Complete the code below and answer question 4."
      ]
    },
    {
      "cell_type": "code",
      "execution_count": null,
      "metadata": {
        "id": "GsY0Y0ZCORrJ"
      },
      "outputs": [],
      "source": [
        "from sklearn.model_selection import KFold\n",
        "from sklearn.model_selection import train_test_split\n",
        "from sklearn.metrics import f1_score\n",
        "\n",
        "# collector of the results\n",
        "xf1score = np.zeros((ndataset, nlearner, nsolver, nfold))\n",
        "\n",
        "# iterate over datasets\n",
        "for idata, ds in enumerate(datasets):\n",
        "    # preprocess dataset, split into training and test part\n",
        "    X, y = ds\n",
        "    # change y values from (0,1) to (-1,+1)\n",
        "    y = 2*y - 1\n",
        "    # scale the data\n",
        "    m = X.shape[0]\n",
        "    X /= np.outer(np.ones(m), np.max(np.abs(X), 0))\n",
        "\n",
        "    for ilearner in range(nlearner):\n",
        "        for isolver in range(nsolver):\n",
        "            # TODO: set up the learners\n",
        "\n",
        "            # select training and test\n",
        "            cselection = KFold(n_splits=nfold, random_state=None,\n",
        "                                shuffle=False)\n",
        "\n",
        "            ifold = 0\n",
        "            for index_train, index_test in cselection.split(X):\n",
        "                # TODO:\n",
        "                # split the data into test and trainig\n",
        "                # fit\n",
        "                # predict\n",
        "                # compute scores\n",
        "\n",
        "                ifold += 1\n",
        "\n",
        "# TODO: average on folds\n",
        "\n"
      ]
    }
  ],
  "metadata": {
    "kernelspec": {
      "display_name": "Python 3",
      "language": "python",
      "name": "python3"
    },
    "language_info": {
      "codemirror_mode": {
        "name": "ipython",
        "version": 3
      },
      "file_extension": ".py",
      "mimetype": "text/x-python",
      "name": "python",
      "nbconvert_exporter": "python",
      "pygments_lexer": "ipython3",
      "version": "3.10.12"
    },
    "colab": {
      "provenance": [],
      "include_colab_link": true
    }
  },
  "nbformat": 4,
  "nbformat_minor": 0
}